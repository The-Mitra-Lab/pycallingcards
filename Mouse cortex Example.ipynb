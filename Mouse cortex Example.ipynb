{
 "cells": [
  {
   "cell_type": "markdown",
   "id": "a7b23dec-b8d3-438f-84d7-3beb08e782cd",
   "metadata": {},
   "source": [
    "# Tutorial: Mouse cortex single-cell callingcards data. "
   ]
  },
  {
   "cell_type": "markdown",
   "id": "23957f8d-186a-4d95-a223-dc67ddeba63b",
   "metadata": {},
   "source": [
    " The data is from [Moudgil et al., Cell. (2020)](https://doi.org/10.1016/j.cell.2020.06.037)."
   ]
  },
  {
   "cell_type": "code",
   "execution_count": 1,
   "id": "9c51fe44-bebe-4dde-8007-5cd516f40f51",
   "metadata": {},
   "outputs": [],
   "source": [
    "import pycallingcards as cc\n",
    "import numpy as np\n",
    "import pandas as pd\n",
    "import scanpy as sc"
   ]
  },
  {
   "cell_type": "markdown",
   "id": "669744b0-c0b2-4e07-a421-b128fc03f2b2",
   "metadata": {},
   "source": [
    "\n",
    "\n",
    "Read single-cell calling cards ccf data. The columns indecates the chromosome, the start, end point of each htop, read number, direction and cell borcode."
   ]
  },
  {
   "cell_type": "code",
   "execution_count": 2,
   "id": "e1c61320-1c1b-4919-8bc8-e7fd730bb6fa",
   "metadata": {},
   "outputs": [
    {
     "data": {
      "text/html": [
       "<div>\n",
       "<style scoped>\n",
       "    .dataframe tbody tr th:only-of-type {\n",
       "        vertical-align: middle;\n",
       "    }\n",
       "\n",
       "    .dataframe tbody tr th {\n",
       "        vertical-align: top;\n",
       "    }\n",
       "\n",
       "    .dataframe thead th {\n",
       "        text-align: right;\n",
       "    }\n",
       "</style>\n",
       "<table border=\"1\" class=\"dataframe\">\n",
       "  <thead>\n",
       "    <tr style=\"text-align: right;\">\n",
       "      <th></th>\n",
       "      <th>0</th>\n",
       "      <th>1</th>\n",
       "      <th>2</th>\n",
       "      <th>3</th>\n",
       "      <th>4</th>\n",
       "      <th>5</th>\n",
       "    </tr>\n",
       "  </thead>\n",
       "  <tbody>\n",
       "    <tr>\n",
       "      <th>0</th>\n",
       "      <td>chr1</td>\n",
       "      <td>3112541</td>\n",
       "      <td>3112545</td>\n",
       "      <td>12</td>\n",
       "      <td>+</td>\n",
       "      <td>GATGAAAAGAGTTGGC-1</td>\n",
       "    </tr>\n",
       "    <tr>\n",
       "      <th>1</th>\n",
       "      <td>chr1</td>\n",
       "      <td>3121337</td>\n",
       "      <td>3121341</td>\n",
       "      <td>6</td>\n",
       "      <td>-</td>\n",
       "      <td>CGATCGGCACATTTCT-1</td>\n",
       "    </tr>\n",
       "    <tr>\n",
       "      <th>2</th>\n",
       "      <td>chr1</td>\n",
       "      <td>3199281</td>\n",
       "      <td>3199285</td>\n",
       "      <td>7</td>\n",
       "      <td>+</td>\n",
       "      <td>GTCCTCATCTCCGGTT-1</td>\n",
       "    </tr>\n",
       "    <tr>\n",
       "      <th>3</th>\n",
       "      <td>chr1</td>\n",
       "      <td>3211433</td>\n",
       "      <td>3211437</td>\n",
       "      <td>22</td>\n",
       "      <td>-</td>\n",
       "      <td>CGAGAAGAGGAATCGC-1</td>\n",
       "    </tr>\n",
       "    <tr>\n",
       "      <th>4</th>\n",
       "      <td>chr1</td>\n",
       "      <td>3245859</td>\n",
       "      <td>3245863</td>\n",
       "      <td>149</td>\n",
       "      <td>+</td>\n",
       "      <td>TTTACTGCATCCGCGA-1</td>\n",
       "    </tr>\n",
       "    <tr>\n",
       "      <th>...</th>\n",
       "      <td>...</td>\n",
       "      <td>...</td>\n",
       "      <td>...</td>\n",
       "      <td>...</td>\n",
       "      <td>...</td>\n",
       "      <td>...</td>\n",
       "    </tr>\n",
       "    <tr>\n",
       "      <th>111377</th>\n",
       "      <td>chrY</td>\n",
       "      <td>90807968</td>\n",
       "      <td>90807972</td>\n",
       "      <td>200</td>\n",
       "      <td>-</td>\n",
       "      <td>ACGGAGAGTCGCATAT-1</td>\n",
       "    </tr>\n",
       "    <tr>\n",
       "      <th>111378</th>\n",
       "      <td>chrY</td>\n",
       "      <td>90833531</td>\n",
       "      <td>90833535</td>\n",
       "      <td>51</td>\n",
       "      <td>-</td>\n",
       "      <td>TAGCCGGTCCTGTACC-1</td>\n",
       "    </tr>\n",
       "    <tr>\n",
       "      <th>111379</th>\n",
       "      <td>chrY</td>\n",
       "      <td>90833600</td>\n",
       "      <td>90833604</td>\n",
       "      <td>13</td>\n",
       "      <td>-</td>\n",
       "      <td>TTGGCAAAGAATTGTG-1</td>\n",
       "    </tr>\n",
       "    <tr>\n",
       "      <th>111380</th>\n",
       "      <td>chrY</td>\n",
       "      <td>90840262</td>\n",
       "      <td>90840266</td>\n",
       "      <td>8</td>\n",
       "      <td>-</td>\n",
       "      <td>GTGCATAGTACCAGTT-1</td>\n",
       "    </tr>\n",
       "    <tr>\n",
       "      <th>111381</th>\n",
       "      <td>chrY</td>\n",
       "      <td>90840262</td>\n",
       "      <td>90840266</td>\n",
       "      <td>95</td>\n",
       "      <td>+</td>\n",
       "      <td>TTGTAGGTCGAATCCA-1</td>\n",
       "    </tr>\n",
       "  </tbody>\n",
       "</table>\n",
       "<p>111382 rows × 6 columns</p>\n",
       "</div>"
      ],
      "text/plain": [
       "           0         1         2    3  4                   5\n",
       "0       chr1   3112541   3112545   12  +  GATGAAAAGAGTTGGC-1\n",
       "1       chr1   3121337   3121341    6  -  CGATCGGCACATTTCT-1\n",
       "2       chr1   3199281   3199285    7  +  GTCCTCATCTCCGGTT-1\n",
       "3       chr1   3211433   3211437   22  -  CGAGAAGAGGAATCGC-1\n",
       "4       chr1   3245859   3245863  149  +  TTTACTGCATCCGCGA-1\n",
       "...      ...       ...       ...  ... ..                 ...\n",
       "111377  chrY  90807968  90807972  200  -  ACGGAGAGTCGCATAT-1\n",
       "111378  chrY  90833531  90833535   51  -  TAGCCGGTCCTGTACC-1\n",
       "111379  chrY  90833600  90833604   13  -  TTGGCAAAGAATTGTG-1\n",
       "111380  chrY  90840262  90840266    8  -  GTGCATAGTACCAGTT-1\n",
       "111381  chrY  90840262  90840266   95  +  TTGTAGGTCGAATCCA-1\n",
       "\n",
       "[111382 rows x 6 columns]"
      ]
     },
     "execution_count": 2,
     "metadata": {},
     "output_type": "execute_result"
    }
   ],
   "source": [
    "ccf_data = cc.datasets.mousecortex_ccf()\n",
    "ccf_data "
   ]
  },
  {
   "cell_type": "markdown",
   "id": "36f55359-784c-4584-978e-e9423ec1296c",
   "metadata": {},
   "source": [
    "Because the htops are discrete, we now call the peaks to diagnose potential binding sites."
   ]
  },
  {
   "cell_type": "code",
   "execution_count": 3,
   "id": "71c0d185-29de-4046-978f-843191b531f7",
   "metadata": {},
   "outputs": [
    {
     "name": "stdout",
     "output_type": "stream",
     "text": [
      "For the test method without background, [expdata, reference, pvalue_cutoff, lam_win_size, pseudocounts, minlen, extend, maxbetween, test_method, min_hops, record] would be utilized.\n"
     ]
    },
    {
     "name": "stderr",
     "output_type": "stream",
     "text": [
      "100%|██████████| 21/21 [00:21<00:00,  1.01s/it]\n"
     ]
    },
    {
     "data": {
      "text/html": [
       "<div>\n",
       "<style scoped>\n",
       "    .dataframe tbody tr th:only-of-type {\n",
       "        vertical-align: middle;\n",
       "    }\n",
       "\n",
       "    .dataframe tbody tr th {\n",
       "        vertical-align: top;\n",
       "    }\n",
       "\n",
       "    .dataframe thead th {\n",
       "        text-align: right;\n",
       "    }\n",
       "</style>\n",
       "<table border=\"1\" class=\"dataframe\">\n",
       "  <thead>\n",
       "    <tr style=\"text-align: right;\">\n",
       "      <th></th>\n",
       "      <th>Chr</th>\n",
       "      <th>Start</th>\n",
       "      <th>End</th>\n",
       "      <th>Experiment Hops</th>\n",
       "      <th>Reference Hops</th>\n",
       "      <th>Expected Hops</th>\n",
       "      <th>pvalue</th>\n",
       "    </tr>\n",
       "  </thead>\n",
       "  <tbody>\n",
       "    <tr>\n",
       "      <th>0</th>\n",
       "      <td>chr1</td>\n",
       "      <td>3399868</td>\n",
       "      <td>3400272</td>\n",
       "      <td>5</td>\n",
       "      <td>4</td>\n",
       "      <td>1.031353</td>\n",
       "      <td>6.965061e-04</td>\n",
       "    </tr>\n",
       "    <tr>\n",
       "      <th>1</th>\n",
       "      <td>chr1</td>\n",
       "      <td>4806673</td>\n",
       "      <td>4809049</td>\n",
       "      <td>12</td>\n",
       "      <td>20</td>\n",
       "      <td>1.120541</td>\n",
       "      <td>2.498336e-10</td>\n",
       "    </tr>\n",
       "    <tr>\n",
       "      <th>2</th>\n",
       "      <td>chr1</td>\n",
       "      <td>9300144</td>\n",
       "      <td>9300901</td>\n",
       "      <td>5</td>\n",
       "      <td>5</td>\n",
       "      <td>1.037149</td>\n",
       "      <td>7.168254e-04</td>\n",
       "    </tr>\n",
       "    <tr>\n",
       "      <th>3</th>\n",
       "      <td>chr1</td>\n",
       "      <td>14302176</td>\n",
       "      <td>14310895</td>\n",
       "      <td>14</td>\n",
       "      <td>92</td>\n",
       "      <td>1.523252</td>\n",
       "      <td>1.015569e-10</td>\n",
       "    </tr>\n",
       "    <tr>\n",
       "      <th>4</th>\n",
       "      <td>chr1</td>\n",
       "      <td>15287495</td>\n",
       "      <td>15288141</td>\n",
       "      <td>8</td>\n",
       "      <td>4</td>\n",
       "      <td>1.029800</td>\n",
       "      <td>1.427167e-06</td>\n",
       "    </tr>\n",
       "    <tr>\n",
       "      <th>...</th>\n",
       "      <td>...</td>\n",
       "      <td>...</td>\n",
       "      <td>...</td>\n",
       "      <td>...</td>\n",
       "      <td>...</td>\n",
       "      <td>...</td>\n",
       "      <td>...</td>\n",
       "    </tr>\n",
       "    <tr>\n",
       "      <th>2166</th>\n",
       "      <td>chrX</td>\n",
       "      <td>166172262</td>\n",
       "      <td>166174518</td>\n",
       "      <td>6</td>\n",
       "      <td>10</td>\n",
       "      <td>1.137755</td>\n",
       "      <td>1.824630e-04</td>\n",
       "    </tr>\n",
       "    <tr>\n",
       "      <th>2167</th>\n",
       "      <td>chrX</td>\n",
       "      <td>166241178</td>\n",
       "      <td>166243587</td>\n",
       "      <td>8</td>\n",
       "      <td>18</td>\n",
       "      <td>1.257844</td>\n",
       "      <td>7.050309e-06</td>\n",
       "    </tr>\n",
       "    <tr>\n",
       "      <th>2168</th>\n",
       "      <td>chrX</td>\n",
       "      <td>166345453</td>\n",
       "      <td>166350005</td>\n",
       "      <td>11</td>\n",
       "      <td>35</td>\n",
       "      <td>1.507674</td>\n",
       "      <td>7.204418e-08</td>\n",
       "    </tr>\n",
       "    <tr>\n",
       "      <th>2169</th>\n",
       "      <td>chrX</td>\n",
       "      <td>168117814</td>\n",
       "      <td>168120255</td>\n",
       "      <td>7</td>\n",
       "      <td>21</td>\n",
       "      <td>1.162110</td>\n",
       "      <td>2.957329e-05</td>\n",
       "    </tr>\n",
       "    <tr>\n",
       "      <th>2170</th>\n",
       "      <td>chrX</td>\n",
       "      <td>169842873</td>\n",
       "      <td>169845831</td>\n",
       "      <td>9</td>\n",
       "      <td>28</td>\n",
       "      <td>1.314399</td>\n",
       "      <td>1.292113e-06</td>\n",
       "    </tr>\n",
       "  </tbody>\n",
       "</table>\n",
       "<p>2171 rows × 7 columns</p>\n",
       "</div>"
      ],
      "text/plain": [
       "       Chr      Start        End  Experiment Hops  Reference Hops  \\\n",
       "0     chr1    3399868    3400272                5               4   \n",
       "1     chr1    4806673    4809049               12              20   \n",
       "2     chr1    9300144    9300901                5               5   \n",
       "3     chr1   14302176   14310895               14              92   \n",
       "4     chr1   15287495   15288141                8               4   \n",
       "...    ...        ...        ...              ...             ...   \n",
       "2166  chrX  166172262  166174518                6              10   \n",
       "2167  chrX  166241178  166243587                8              18   \n",
       "2168  chrX  166345453  166350005               11              35   \n",
       "2169  chrX  168117814  168120255                7              21   \n",
       "2170  chrX  169842873  169845831                9              28   \n",
       "\n",
       "      Expected Hops        pvalue  \n",
       "0          1.031353  6.965061e-04  \n",
       "1          1.120541  2.498336e-10  \n",
       "2          1.037149  7.168254e-04  \n",
       "3          1.523252  1.015569e-10  \n",
       "4          1.029800  1.427167e-06  \n",
       "...             ...           ...  \n",
       "2166       1.137755  1.824630e-04  \n",
       "2167       1.257844  7.050309e-06  \n",
       "2168       1.507674  7.204418e-08  \n",
       "2169       1.162110  2.957329e-05  \n",
       "2170       1.314399  1.292113e-06  \n",
       "\n",
       "[2171 rows x 7 columns]"
      ]
     },
     "execution_count": 3,
     "metadata": {},
     "output_type": "execute_result"
    }
   ],
   "source": [
    "peak_data = cc.pp.callpeaks(ccf_data, method = \"test\", reference = \"mm10\",  maxbetween = 2000,pvalue_cutoff = 0.01,\n",
    "                  lam_win_size = 1000000,  pseudocounts = 1, record = True)\n",
    "peak_data"
   ]
  },
  {
   "cell_type": "markdown",
   "id": "6b6b4e1c-aa69-4138-89ac-3d38c8d47fa8",
   "metadata": {},
   "source": [
    "\n",
    "In order to choose good paramenters/method for peak calling. Taking a look at the genome is strongly adviced."
   ]
  },
  {
   "cell_type": "code",
   "execution_count": 4,
   "id": "09a124e5-a6b8-4f1c-ad8c-f65fc80eb192",
   "metadata": {},
   "outputs": [
    {
     "data": {
      "image/png": "[encoded data removed]",
      "text/plain": [
       "<Figure size 2160x360 with 2 Axes>"
      ]
     },
     "metadata": {
      "needs_background": "light"
     },
     "output_type": "display_data"
    }
   ],
   "source": [
    "cc.pl.draw_area(\"chr12\",50102917,50124960,400000,peak_data,ccf_data,\"mm10\",\n",
    "                figsize = (30,5),peak_line = 4,save = True, title = \"chr12_50102917_50124960\")"
   ]
  },
  {
   "cell_type": "markdown",
   "id": "e6cc472e-8033-4218-84d7-14cd9fb42b04",
   "metadata": {},
   "source": [
    "Find out the closest genes for each peak to annotate."
   ]
  },
  {
   "cell_type": "code",
   "execution_count": 5,
   "id": "b9667e0d-1c52-4f90-8dad-14ced2da1973",
   "metadata": {},
   "outputs": [
    {
     "name": "stdout",
     "output_type": "stream",
     "text": [
      "In the bedtools method, we would use bedtools in the default path. Set bedtools path by 'bedtools_path' if needed.\n"
     ]
    },
    {
     "data": {
      "text/html": [
       "<div>\n",
       "<style scoped>\n",
       "    .dataframe tbody tr th:only-of-type {\n",
       "        vertical-align: middle;\n",
       "    }\n",
       "\n",
       "    .dataframe tbody tr th {\n",
       "        vertical-align: top;\n",
       "    }\n",
       "\n",
       "    .dataframe thead th {\n",
       "        text-align: right;\n",
       "    }\n",
       "</style>\n",
       "<table border=\"1\" class=\"dataframe\">\n",
       "  <thead>\n",
       "    <tr style=\"text-align: right;\">\n",
       "      <th></th>\n",
       "      <th>Chr</th>\n",
       "      <th>Start</th>\n",
       "      <th>End</th>\n",
       "      <th>Experiment Hops</th>\n",
       "      <th>Reference Hops</th>\n",
       "      <th>Expected Hops</th>\n",
       "      <th>pvalue</th>\n",
       "      <th>Nearest Refseq1</th>\n",
       "      <th>Gene Name1</th>\n",
       "      <th>Nearest Refseq2</th>\n",
       "      <th>Gene Name2</th>\n",
       "    </tr>\n",
       "  </thead>\n",
       "  <tbody>\n",
       "    <tr>\n",
       "      <th>0</th>\n",
       "      <td>chr1</td>\n",
       "      <td>3399868</td>\n",
       "      <td>3400272</td>\n",
       "      <td>5</td>\n",
       "      <td>4</td>\n",
       "      <td>1.031353</td>\n",
       "      <td>6.965061e-04</td>\n",
       "      <td>NM_001011874</td>\n",
       "      <td>Xkr4</td>\n",
       "      <td>NM_001195662</td>\n",
       "      <td>Rp1</td>\n",
       "    </tr>\n",
       "    <tr>\n",
       "      <th>1</th>\n",
       "      <td>chr1</td>\n",
       "      <td>4806673</td>\n",
       "      <td>4809049</td>\n",
       "      <td>12</td>\n",
       "      <td>20</td>\n",
       "      <td>1.120541</td>\n",
       "      <td>2.498336e-10</td>\n",
       "      <td>NM_008866</td>\n",
       "      <td>Lypla1</td>\n",
       "      <td>NR_033530</td>\n",
       "      <td>Mrpl15</td>\n",
       "    </tr>\n",
       "    <tr>\n",
       "      <th>2</th>\n",
       "      <td>chr1</td>\n",
       "      <td>9300144</td>\n",
       "      <td>9300901</td>\n",
       "      <td>5</td>\n",
       "      <td>5</td>\n",
       "      <td>1.037149</td>\n",
       "      <td>7.168254e-04</td>\n",
       "      <td>NM_001290390</td>\n",
       "      <td>Sntg1</td>\n",
       "      <td>NM_021511</td>\n",
       "      <td>Rrs1</td>\n",
       "    </tr>\n",
       "    <tr>\n",
       "      <th>3</th>\n",
       "      <td>chr1</td>\n",
       "      <td>14302176</td>\n",
       "      <td>14310895</td>\n",
       "      <td>14</td>\n",
       "      <td>92</td>\n",
       "      <td>1.523252</td>\n",
       "      <td>1.015569e-10</td>\n",
       "      <td>NM_010164</td>\n",
       "      <td>Eya1</td>\n",
       "      <td>NM_010827</td>\n",
       "      <td>Msc</td>\n",
       "    </tr>\n",
       "    <tr>\n",
       "      <th>4</th>\n",
       "      <td>chr1</td>\n",
       "      <td>15287495</td>\n",
       "      <td>15288141</td>\n",
       "      <td>8</td>\n",
       "      <td>4</td>\n",
       "      <td>1.029800</td>\n",
       "      <td>1.427167e-06</td>\n",
       "      <td>NM_001098528</td>\n",
       "      <td>Kcnb2</td>\n",
       "      <td>NM_177781</td>\n",
       "      <td>Trpa1</td>\n",
       "    </tr>\n",
       "    <tr>\n",
       "      <th>...</th>\n",
       "      <td>...</td>\n",
       "      <td>...</td>\n",
       "      <td>...</td>\n",
       "      <td>...</td>\n",
       "      <td>...</td>\n",
       "      <td>...</td>\n",
       "      <td>...</td>\n",
       "      <td>...</td>\n",
       "      <td>...</td>\n",
       "      <td>...</td>\n",
       "      <td>...</td>\n",
       "    </tr>\n",
       "    <tr>\n",
       "      <th>2166</th>\n",
       "      <td>chrX</td>\n",
       "      <td>166172262</td>\n",
       "      <td>166174518</td>\n",
       "      <td>6</td>\n",
       "      <td>10</td>\n",
       "      <td>1.137755</td>\n",
       "      <td>1.824630e-04</td>\n",
       "      <td>NM_001310724</td>\n",
       "      <td>Gemin8</td>\n",
       "      <td>NM_023122</td>\n",
       "      <td>Gpm6b</td>\n",
       "    </tr>\n",
       "    <tr>\n",
       "      <th>2167</th>\n",
       "      <td>chrX</td>\n",
       "      <td>166241178</td>\n",
       "      <td>166243587</td>\n",
       "      <td>8</td>\n",
       "      <td>18</td>\n",
       "      <td>1.257844</td>\n",
       "      <td>7.050309e-06</td>\n",
       "      <td>NM_023122</td>\n",
       "      <td>Gpm6b</td>\n",
       "      <td>NM_001310724</td>\n",
       "      <td>Gemin8</td>\n",
       "    </tr>\n",
       "    <tr>\n",
       "      <th>2168</th>\n",
       "      <td>chrX</td>\n",
       "      <td>166345453</td>\n",
       "      <td>166350005</td>\n",
       "      <td>11</td>\n",
       "      <td>35</td>\n",
       "      <td>1.507674</td>\n",
       "      <td>7.204418e-08</td>\n",
       "      <td>NM_023122</td>\n",
       "      <td>Gpm6b</td>\n",
       "      <td>NM_177429</td>\n",
       "      <td>Ofd1</td>\n",
       "    </tr>\n",
       "    <tr>\n",
       "      <th>2169</th>\n",
       "      <td>chrX</td>\n",
       "      <td>168117814</td>\n",
       "      <td>168120255</td>\n",
       "      <td>7</td>\n",
       "      <td>21</td>\n",
       "      <td>1.162110</td>\n",
       "      <td>2.957329e-05</td>\n",
       "      <td>NM_001290427</td>\n",
       "      <td>Frmpd4</td>\n",
       "      <td>NM_001290428</td>\n",
       "      <td>Frmpd4</td>\n",
       "    </tr>\n",
       "    <tr>\n",
       "      <th>2170</th>\n",
       "      <td>chrX</td>\n",
       "      <td>169842873</td>\n",
       "      <td>169845831</td>\n",
       "      <td>9</td>\n",
       "      <td>28</td>\n",
       "      <td>1.314399</td>\n",
       "      <td>1.292113e-06</td>\n",
       "      <td>NM_010797</td>\n",
       "      <td>Mid1</td>\n",
       "      <td>NM_001290506</td>\n",
       "      <td>Mid1</td>\n",
       "    </tr>\n",
       "  </tbody>\n",
       "</table>\n",
       "<p>2171 rows × 11 columns</p>\n",
       "</div>"
      ],
      "text/plain": [
       "       Chr      Start        End  Experiment Hops  Reference Hops  \\\n",
       "0     chr1    3399868    3400272                5               4   \n",
       "1     chr1    4806673    4809049               12              20   \n",
       "2     chr1    9300144    9300901                5               5   \n",
       "3     chr1   14302176   14310895               14              92   \n",
       "4     chr1   15287495   15288141                8               4   \n",
       "...    ...        ...        ...              ...             ...   \n",
       "2166  chrX  166172262  166174518                6              10   \n",
       "2167  chrX  166241178  166243587                8              18   \n",
       "2168  chrX  166345453  166350005               11              35   \n",
       "2169  chrX  168117814  168120255                7              21   \n",
       "2170  chrX  169842873  169845831                9              28   \n",
       "\n",
       "      Expected Hops        pvalue Nearest Refseq1 Gene Name1 Nearest Refseq2  \\\n",
       "0          1.031353  6.965061e-04    NM_001011874       Xkr4    NM_001195662   \n",
       "1          1.120541  2.498336e-10       NM_008866     Lypla1       NR_033530   \n",
       "2          1.037149  7.168254e-04    NM_001290390      Sntg1       NM_021511   \n",
       "3          1.523252  1.015569e-10       NM_010164       Eya1       NM_010827   \n",
       "4          1.029800  1.427167e-06    NM_001098528      Kcnb2       NM_177781   \n",
       "...             ...           ...             ...        ...             ...   \n",
       "2166       1.137755  1.824630e-04    NM_001310724     Gemin8       NM_023122   \n",
       "2167       1.257844  7.050309e-06       NM_023122      Gpm6b    NM_001310724   \n",
       "2168       1.507674  7.204418e-08       NM_023122      Gpm6b       NM_177429   \n",
       "2169       1.162110  2.957329e-05    NM_001290427     Frmpd4    NM_001290428   \n",
       "2170       1.314399  1.292113e-06       NM_010797       Mid1    NM_001290506   \n",
       "\n",
       "     Gene Name2  \n",
       "0           Rp1  \n",
       "1        Mrpl15  \n",
       "2          Rrs1  \n",
       "3           Msc  \n",
       "4         Trpa1  \n",
       "...         ...  \n",
       "2166      Gpm6b  \n",
       "2167     Gemin8  \n",
       "2168       Ofd1  \n",
       "2169     Frmpd4  \n",
       "2170       Mid1  \n",
       "\n",
       "[2171 rows x 11 columns]"
      ]
     },
     "execution_count": 5,
     "metadata": {},
     "output_type": "execute_result"
    }
   ],
   "source": [
    "peak_annotation = cc.pp.annotation(peak_data, reference = \"mm10\", method = \"bedtools\")\n",
    "peak_annotation = cc.pp.combine_annotation(peak_data,peak_annotation)\n",
    "peak_annotation"
   ]
  },
  {
   "cell_type": "markdown",
   "id": "23f98237-226e-45cc-96e1-01bc2dfa4641",
   "metadata": {},
   "source": [
    "Read the barocede file."
   ]
  },
  {
   "cell_type": "code",
   "execution_count": 6,
   "id": "09df1e5d-248e-4634-9ce5-e5295cf98ef2",
   "metadata": {},
   "outputs": [
    {
     "data": {
      "text/html": [
       "<div>\n",
       "<style scoped>\n",
       "    .dataframe tbody tr th:only-of-type {\n",
       "        vertical-align: middle;\n",
       "    }\n",
       "\n",
       "    .dataframe tbody tr th {\n",
       "        vertical-align: top;\n",
       "    }\n",
       "\n",
       "    .dataframe thead th {\n",
       "        text-align: right;\n",
       "    }\n",
       "</style>\n",
       "<table border=\"1\" class=\"dataframe\">\n",
       "  <thead>\n",
       "    <tr style=\"text-align: right;\">\n",
       "      <th></th>\n",
       "      <th>index</th>\n",
       "    </tr>\n",
       "  </thead>\n",
       "  <tbody>\n",
       "    <tr>\n",
       "      <th>0</th>\n",
       "      <td>AAACCTGAGAACTCGG-1</td>\n",
       "    </tr>\n",
       "    <tr>\n",
       "      <th>1</th>\n",
       "      <td>AAACCTGAGCAATCTC-1</td>\n",
       "    </tr>\n",
       "    <tr>\n",
       "      <th>2</th>\n",
       "      <td>AAACCTGAGCCGTCGT-1</td>\n",
       "    </tr>\n",
       "    <tr>\n",
       "      <th>3</th>\n",
       "      <td>AAACCTGAGTAGCGGT-1</td>\n",
       "    </tr>\n",
       "    <tr>\n",
       "      <th>4</th>\n",
       "      <td>AAACCTGAGTGGAGTC-1</td>\n",
       "    </tr>\n",
       "    <tr>\n",
       "      <th>...</th>\n",
       "      <td>...</td>\n",
       "    </tr>\n",
       "    <tr>\n",
       "      <th>35945</th>\n",
       "      <td>TTTGTCAAGTCCCACG-1</td>\n",
       "    </tr>\n",
       "    <tr>\n",
       "      <th>35946</th>\n",
       "      <td>TTTGTCACAGCGTCCA-1</td>\n",
       "    </tr>\n",
       "    <tr>\n",
       "      <th>35947</th>\n",
       "      <td>TTTGTCACATTTCACT-1</td>\n",
       "    </tr>\n",
       "    <tr>\n",
       "      <th>35948</th>\n",
       "      <td>TTTGTCAGTCGCATCG-1</td>\n",
       "    </tr>\n",
       "    <tr>\n",
       "      <th>35949</th>\n",
       "      <td>TTTGTCATCTTTACAC-1</td>\n",
       "    </tr>\n",
       "  </tbody>\n",
       "</table>\n",
       "<p>35950 rows × 1 columns</p>\n",
       "</div>"
      ],
      "text/plain": [
       "                    index\n",
       "0      AAACCTGAGAACTCGG-1\n",
       "1      AAACCTGAGCAATCTC-1\n",
       "2      AAACCTGAGCCGTCGT-1\n",
       "3      AAACCTGAGTAGCGGT-1\n",
       "4      AAACCTGAGTGGAGTC-1\n",
       "...                   ...\n",
       "35945  TTTGTCAAGTCCCACG-1\n",
       "35946  TTTGTCACAGCGTCCA-1\n",
       "35947  TTTGTCACATTTCACT-1\n",
       "35948  TTTGTCAGTCGCATCG-1\n",
       "35949  TTTGTCATCTTTACAC-1\n",
       "\n",
       "[35950 rows x 1 columns]"
      ]
     },
     "execution_count": 6,
     "metadata": {},
     "output_type": "execute_result"
    }
   ],
   "source": [
    "barcodes = cc.datasets.mousecortex_barcodes()\n",
    "barcodes"
   ]
  },
  {
   "cell_type": "markdown",
   "id": "ef1bc759-6e03-45c7-95b4-fdbfe19141b3",
   "metadata": {},
   "source": [
    "Use ccf data, peak data and barcodes data to make a cell by peak anndata object."
   ]
  },
  {
   "cell_type": "code",
   "execution_count": 7,
   "id": "5ce9d309-8726-4fd4-b45f-81fdf0c8c9db",
   "metadata": {},
   "outputs": [
    {
     "data": {
      "text/plain": [
       "AnnData object with n_obs × n_vars = 35950 × 2171\n",
       "    var: 'Chr', 'Start', 'End', 'Experiment Hops', 'Reference Hops', 'Expected Hops', 'pvalue', 'Nearest Refseq1', 'Gene Name1', 'Nearest Refseq2', 'Gene Name2'"
      ]
     },
     "execution_count": 7,
     "metadata": {},
     "output_type": "execute_result"
    }
   ],
   "source": [
    "adata_ccf = cc.pp.makeAnndata(ccf_data, peak_annotation, barcodes)\n",
    "adata_ccf"
   ]
  },
  {
   "cell_type": "markdown",
   "id": "28a171fb-4bfd-443c-9c1a-ea5b98a2bd2d",
   "metadata": {},
   "source": [
    "Read the RNA data. [Scanpy](https://scanpy.readthedocs.io/en/stable/) is recommended to read and analyze single-cell RNA-seq data."
   ]
  },
  {
   "cell_type": "code",
   "execution_count": 8,
   "id": "584dd416-9daf-4d86-9709-c79d85586b9a",
   "metadata": {},
   "outputs": [
    {
     "data": {
      "text/plain": [
       "AnnData object with n_obs × n_vars = 30300 × 2638\n",
       "    obs: 'batch', 'n_genes', 'total_counts', 'cluster'\n",
       "    var: 'n_counts', 'n_cells', 'highly_variable'"
      ]
     },
     "execution_count": 8,
     "metadata": {},
     "output_type": "execute_result"
    }
   ],
   "source": [
    "adata = cc.datasets.mousecortex_RNA()\n",
    "adata"
   ]
  },
  {
   "cell_type": "markdown",
   "id": "d6a211c0-1f1d-4509-bf70-2465ddf964b4",
   "metadata": {},
   "source": [
    "In the RNA-seq analysis, many cells are filtered because of low quility. We need to make the cells in ccf anndata to be the exactly same as RNA-seq anndata."
   ]
  },
  {
   "cell_type": "code",
   "execution_count": 9,
   "id": "7f809b3c-e070-4145-a625-c1d8fe869046",
   "metadata": {},
   "outputs": [
    {
     "data": {
      "text/plain": [
       "(View of AnnData object with n_obs × n_vars = 30300 × 2171\n",
       "     var: 'Chr', 'Start', 'End', 'Experiment Hops', 'Reference Hops', 'Expected Hops', 'pvalue', 'Nearest Refseq1', 'Gene Name1', 'Nearest Refseq2', 'Gene Name2',\n",
       " <30300x2171 sparse matrix of type '<class 'numpy.float32'>'\n",
       " \twith 19818 stored elements in Compressed Sparse Column format>,\n",
       " array([ True,  True,  True, ...,  True,  True,  True]))"
      ]
     },
     "execution_count": 9,
     "metadata": {},
     "output_type": "execute_result"
    }
   ],
   "source": [
    "adata_ccf = adata_ccf[adata.obs.index]\n",
    "adata_ccf,adata_ccf.X,adata_ccf.obs.index==adata_ccf.obs.index"
   ]
  },
  {
   "cell_type": "markdown",
   "id": "77560c18-8340-419d-b3fe-4e6ed0d8f55a",
   "metadata": {},
   "source": [
    "Many analysis results for RNA could be used in calling cards analysis. Here, we would like use the clustering results and compare the difference of calling cards binding among different clusters. "
   ]
  },
  {
   "cell_type": "code",
   "execution_count": 10,
   "id": "e4e3636d-3307-4be9-89e2-21fc562dd133",
   "metadata": {},
   "outputs": [
    {
     "name": "stderr",
     "output_type": "stream",
     "text": [
      "/tmp/ipykernel_2879729/2786046817.py:1: ImplicitModificationWarning: Trying to modify attribute `.obs` of view, initializing view as actual.\n",
      "  adata_ccf.obs[['cluster']] = adata.obs[['cluster']]\n"
     ]
    },
    {
     "data": {
      "text/html": [
       "<div>\n",
       "<style scoped>\n",
       "    .dataframe tbody tr th:only-of-type {\n",
       "        vertical-align: middle;\n",
       "    }\n",
       "\n",
       "    .dataframe tbody tr th {\n",
       "        vertical-align: top;\n",
       "    }\n",
       "\n",
       "    .dataframe thead th {\n",
       "        text-align: right;\n",
       "    }\n",
       "</style>\n",
       "<table border=\"1\" class=\"dataframe\">\n",
       "  <thead>\n",
       "    <tr style=\"text-align: right;\">\n",
       "      <th></th>\n",
       "      <th>cluster</th>\n",
       "    </tr>\n",
       "    <tr>\n",
       "      <th>index</th>\n",
       "      <th></th>\n",
       "    </tr>\n",
       "  </thead>\n",
       "  <tbody>\n",
       "    <tr>\n",
       "      <th>AAACCTGAGAACTCGG-1</th>\n",
       "      <td>Neuron_Excit_L5_Mixed</td>\n",
       "    </tr>\n",
       "    <tr>\n",
       "      <th>AAACCTGAGCCGTCGT-1</th>\n",
       "      <td>Astrocyte</td>\n",
       "    </tr>\n",
       "    <tr>\n",
       "      <th>AAACCTGAGTAGCGGT-1</th>\n",
       "      <td>Astrocyte</td>\n",
       "    </tr>\n",
       "    <tr>\n",
       "      <th>AAACCTGAGTGGAGTC-1</th>\n",
       "      <td>Neuron_Inhibitory</td>\n",
       "    </tr>\n",
       "    <tr>\n",
       "      <th>AAACCTGCAGCATGAG-1</th>\n",
       "      <td>Astrocyte</td>\n",
       "    </tr>\n",
       "    <tr>\n",
       "      <th>...</th>\n",
       "      <td>...</td>\n",
       "    </tr>\n",
       "    <tr>\n",
       "      <th>TTTGTCAAGTCCCACG-1</th>\n",
       "      <td>Neuron_Granule_DG</td>\n",
       "    </tr>\n",
       "    <tr>\n",
       "      <th>TTTGTCACAGCGTCCA-1</th>\n",
       "      <td>Neuron_Cajal-Retzius</td>\n",
       "    </tr>\n",
       "    <tr>\n",
       "      <th>TTTGTCACATTTCACT-1</th>\n",
       "      <td>Neuron_Granule_DG</td>\n",
       "    </tr>\n",
       "    <tr>\n",
       "      <th>TTTGTCAGTCGCATCG-1</th>\n",
       "      <td>Neuron_Granule_DG</td>\n",
       "    </tr>\n",
       "    <tr>\n",
       "      <th>TTTGTCATCTTTACAC-1</th>\n",
       "      <td>Neuron_Granule_DG</td>\n",
       "    </tr>\n",
       "  </tbody>\n",
       "</table>\n",
       "<p>30300 rows × 1 columns</p>\n",
       "</div>"
      ],
      "text/plain": [
       "                                  cluster\n",
       "index                                    \n",
       "AAACCTGAGAACTCGG-1  Neuron_Excit_L5_Mixed\n",
       "AAACCTGAGCCGTCGT-1              Astrocyte\n",
       "AAACCTGAGTAGCGGT-1              Astrocyte\n",
       "AAACCTGAGTGGAGTC-1      Neuron_Inhibitory\n",
       "AAACCTGCAGCATGAG-1              Astrocyte\n",
       "...                                   ...\n",
       "TTTGTCAAGTCCCACG-1      Neuron_Granule_DG\n",
       "TTTGTCACAGCGTCCA-1   Neuron_Cajal-Retzius\n",
       "TTTGTCACATTTCACT-1      Neuron_Granule_DG\n",
       "TTTGTCAGTCGCATCG-1      Neuron_Granule_DG\n",
       "TTTGTCATCTTTACAC-1      Neuron_Granule_DG\n",
       "\n",
       "[30300 rows x 1 columns]"
      ]
     },
     "execution_count": 10,
     "metadata": {},
     "output_type": "execute_result"
    }
   ],
   "source": [
    "adata_ccf.obs[['cluster']] = adata.obs[['cluster']]\n",
    "adata_ccf.obs"
   ]
  },
  {
   "cell_type": "markdown",
   "id": "b8d65da5-79ea-49b4-bcf8-4f8cc780295b",
   "metadata": {},
   "source": [
    "Although one peak should have many htops, but there is a chance that all the cells from the peak was filtered by the RNA preprocesssing. In this case, we advice to filter the peaks. "
   ]
  },
  {
   "cell_type": "code",
   "execution_count": 11,
   "id": "5ce39521-773e-4bd1-924e-69309c0b9ef9",
   "metadata": {},
   "outputs": [],
   "source": [
    "cc.pp.filter_peaks(adata_ccf, min_counts=1)"
   ]
  },
  {
   "cell_type": "markdown",
   "id": "362ff002-92d8-43f3-aacf-9c6ebc66fc42",
   "metadata": {},
   "source": [
    "Differential binding analysis would find out the significant binding for each cluster."
   ]
  },
  {
   "cell_type": "code",
   "execution_count": null,
   "id": "25ac3b84-2dac-4308-8bca-5daa00397877",
   "metadata": {},
   "outputs": [],
   "source": [
    "cc.tl.rank_peak_groups(adata_ccf,\"cluster\",method = 'binomtest',key_added = 'binomtest')"
   ]
  },
  {
   "cell_type": "markdown",
   "id": "ccf75824-b658-4d7b-b08a-49f2cdb2cc1f",
   "metadata": {},
   "source": [
    "Plot the results for differential binding analysis."
   ]
  },
  {
   "cell_type": "code",
   "execution_count": null,
   "id": "06091dec-a458-4f2f-b614-6665b315c084",
   "metadata": {},
   "outputs": [],
   "source": [
    "cc.pl.rank_peak_groups(adata_ccf, key = 'binomtest', save = True)"
   ]
  },
  {
   "cell_type": "markdown",
   "id": "7ef3c054-8b27-48f4-9642-bd154bfc7879",
   "metadata": {},
   "source": [
    "Take a look at the genome for highly differentiated peaks is strongly adviced."
   ]
  },
  {
   "cell_type": "code",
   "execution_count": null,
   "id": "e0910079-3577-47c1-897e-f110d37e516f",
   "metadata": {},
   "outputs": [],
   "source": [
    "cc.pl.draw_area(\"chr12\",50102917,50124960,400000,peak_data,ccf_data,\"mm10\",adata_ccf,\n",
    "                \"Neuron_Excit_L5_Mixed\",'cluster',figsize = (30,6),peak_line = 4,color = \"red\")"
   ]
  },
  {
   "cell_type": "code",
   "execution_count": null,
   "id": "a8e83b77-f304-40c0-8f13-53db53b4a19e",
   "metadata": {},
   "outputs": [],
   "source": [
    "cc.pl.draw_area(\"chr12\",50102917,50124960,400000,peak_data,ccf_data,\"mm10\",adata_ccf,\n",
    "                \"Astrocyte\",'cluster',figsize = (30,6),peak_line = 4,color = \"red\")"
   ]
  },
  {
   "cell_type": "markdown",
   "id": "b9f62fb9-5fbc-4431-8f5e-7bebaa54af17",
   "metadata": {},
   "source": [
    "Saved the file if needed."
   ]
  },
  {
   "cell_type": "code",
   "execution_count": null,
   "id": "a1e0d784-2be4-4692-afd5-18b800416fcd",
   "metadata": {},
   "outputs": [],
   "source": [
    "adata_ccf.write(\"Mouse-Cortex_CCF.h5ad\")"
   ]
  },
  {
   "cell_type": "code",
   "execution_count": null,
   "id": "126b4406-465e-455a-b395-12834d3ac95f",
   "metadata": {},
   "outputs": [],
   "source": []
  },
  {
   "cell_type": "code",
   "execution_count": null,
   "id": "0ee517a0-4ca4-43b7-b312-872359900524",
   "metadata": {},
   "outputs": [],
   "source": []
  }
 ],
 "metadata": {
  "kernelspec": {
   "display_name": "Python 3",
   "language": "python",
   "name": "python3"
  },
  "language_info": {
   "codemirror_mode": {
    "name": "ipython",
    "version": 3
   },
   "file_extension": ".py",
   "mimetype": "text/x-python",
   "name": "python",
   "nbconvert_exporter": "python",
   "pygments_lexer": "ipython3",
   "version": "3.9.12"
  },
  "vscode": {
   "interpreter": {
    "hash": "f9f85f796d01129d0dd105a088854619f454435301f6ffec2fea96ecbd9be4ac"
   }
  }
 },
 "nbformat": 4,
 "nbformat_minor": 5
}
